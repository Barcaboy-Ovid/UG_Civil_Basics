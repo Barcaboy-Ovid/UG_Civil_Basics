{
 "cells": [
  {
   "cell_type": "markdown",
   "metadata": {},
   "source": [
    "# Python Code for Surveying Problems"
   ]
  },
  {
   "cell_type": "markdown",
   "metadata": {},
   "source": [
    "## Fundamental concepts of Surveying"
   ]
  },
  {
   "cell_type": "markdown",
   "metadata": {},
   "source": [
    "### Representative Fraction (RF)"
   ]
  },
  {
   "cell_type": "code",
   "execution_count": null,
   "metadata": {},
   "outputs": [],
   "source": [
    "d = float (input(\" Enter Map Distance in (cm): \"))\n",
    "D = float (input(\" Enter Ground Distance in (cm):\")) # hint convert all value to cm \n",
    "Rf = float (d/D)\n",
    "print(\"Representation Factor :\",Rf)"
   ]
  },
  {
   "cell_type": "markdown",
   "metadata": {},
   "source": [
    "## Shrinkage Factor (SF)"
   ]
  },
  {
   "cell_type": "code",
   "execution_count": null,
   "metadata": {},
   "outputs": [],
   "source": [
    "SL = float(input(\"Shrunk Length in (m) :\"))\n",
    "OL = float(input(\"Original Length in (m) :\"))\n",
    "SF = float(SL/OL)\n",
    "print(\"Shrinkage Factor, SF: \", SF)"
   ]
  },
  {
   "cell_type": "markdown",
   "metadata": {},
   "source": [
    "### Shrunk Scale (SS)"
   ]
  },
  {
   "cell_type": "code",
   "execution_count": null,
   "metadata": {},
   "outputs": [],
   "source": [
    "OS = float(input(\"Original scale :\"))\n",
    "SS = float(OS * SF)\n",
    "print(\"Shrunk scale : \",SS)"
   ]
  },
  {
   "cell_type": "markdown",
   "metadata": {},
   "source": [
    "## Error due to use of Wrong Scale"
   ]
  },
  {
   "cell_type": "code",
   "execution_count": null,
   "metadata": {},
   "outputs": [],
   "source": [
    "RF_W = float(input(\"RF of Wrong scale : \"))\n",
    "RF_C = float(input(\"RF of Correct scale : \"))\n",
    "ML = float(input(\"Measured Length is : \"))\n",
    "MA = float(input(\"Measured Area is : \"))\n",
    "\n",
    "CL = (RF_W/RF_C)*ML\n",
    "CA = ((RF_W/RF_C)**2)*MA\n",
    "\n",
    "print(\"Correct Length is :\",CL, \"m\")\n",
    "print(\"Correct Length is :\",CA, \"m2\")"
   ]
  },
  {
   "cell_type": "markdown",
   "metadata": {},
   "source": [
    "## Error due to use of Incorrect length of Chain or Tape\n"
   ]
  },
  {
   "cell_type": "code",
   "execution_count": null,
   "metadata": {},
   "outputs": [],
   "source": [
    "Lw = float(input(\"Wrong length of chain : \"))\n",
    "Lc = float(input(\"Actual or correct Length of the chain : \"))\n",
    "\n",
    "ML = float(input(\"Wrongly measured Length of line  using incorrect chain : \"))\n",
    "MA = float(input(\"Wrongly measured Area using incorrect chain : \"))\n",
    "MV = float(input(\"Wrongly measured Volume using incorrect chain is : \"))\n",
    "\n",
    "CL = (Lw/Lc)*ML\n",
    "CA = ((Lw/Lc)**2)*MA\n",
    "CV = ((Lw/Lc)**3)*MV\n",
    "\n",
    "print(\"Correct Length of line is :\",CL, \"m\")\n",
    "print(\"Correct Area is :\",CA,\" m2\")\n",
    "print(\"Correct Volume is :\",CV,\" m3\")"
   ]
  },
  {
   "cell_type": "markdown",
   "metadata": {},
   "source": [
    "## Most probable Error"
   ]
  },
  {
   "cell_type": "code",
   "execution_count": null,
   "metadata": {},
   "outputs": [],
   "source": [
    "∑V^2 = float(input(\"Enter sum of the square of difference betwee6n any single observation and mean :\" )\n",
    "n = float(input(\"Number of Observation in  the series:\" )\n",
    "                \n",
    "#Probabale error of single obs\n",
    "Es_1 = 0.6745 (sqrt((∑V^2)/(n-1)))\n",
    "Es_2 = - 0.6745 (sqrt((∑V^2)/(n-1)))\n",
    "print(\"Probabale error of single obs: \", Es_1,Es_2)\n",
    "          "
   ]
  },
  {
   "cell_type": "code",
   "execution_count": null,
   "metadata": {},
   "outputs": [],
   "source": [
    "# probabale error of the mean\n",
    "Em_1 = Es_1/sqrt(n)\n",
    "Em_2 = Es_2/sqrt(n)\n",
    "print(\"Probabale error of the mean: \", Em_1,Em_2)"
   ]
  },
  {
   "cell_type": "code",
   "execution_count": null,
   "metadata": {},
   "outputs": [],
   "source": []
  }
 ],
 "metadata": {
  "kernelspec": {
   "display_name": "Python 3",
   "language": "python",
   "name": "python3"
  },
  "language_info": {
   "codemirror_mode": {
    "name": "ipython",
    "version": 3
   },
   "file_extension": ".py",
   "mimetype": "text/x-python",
   "name": "python",
   "nbconvert_exporter": "python",
   "pygments_lexer": "ipython3",
   "version": "3.8.5"
  }
 },
 "nbformat": 4,
 "nbformat_minor": 4
}
